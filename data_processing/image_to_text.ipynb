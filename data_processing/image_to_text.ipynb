{
 "cells": [
  {
   "cell_type": "markdown",
   "metadata": {},
   "source": [
    "### Importing headers"
   ]
  },
  {
   "cell_type": "code",
   "execution_count": 1,
   "id": "5c84b44e-1ce9-4629-bf41-6f1bed121a4f",
   "metadata": {},
   "outputs": [],
   "source": [
    "from PIL import Image\n",
    "import glob\n",
    "import os\n",
    "import numpy as np\n",
    "\n",
    "import pytesseract"
   ]
  },
  {
   "cell_type": "markdown",
   "metadata": {},
   "source": [
    "### Pre processing the images"
   ]
  },
  {
   "cell_type": "code",
   "execution_count": 2,
   "metadata": {},
   "outputs": [
    {
     "name": "stdout",
     "output_type": "stream",
     "text": [
      "640 480\n"
     ]
    }
   ],
   "source": [
    "# load and view the image \n",
    "\n",
    "image = Image.open(\"/home/adminuser/Documents/cam_test/test2/220231107092246.png\")\n",
    "image.show()\n",
    "image_width, image_height = image.size\n",
    "print(image_width, image_height)"
   ]
  },
  {
   "cell_type": "code",
   "execution_count": 3,
   "metadata": {},
   "outputs": [],
   "source": [
    "# rotate the image\n",
    "rotated_image = image.rotate(-49, expand=0)\n",
    "rotated_image.show()\n",
    "#rotated_image.save(\"rotated.jpg\")\n"
   ]
  },
  {
   "cell_type": "code",
   "execution_count": 4,
   "metadata": {},
   "outputs": [],
   "source": [
    "# crope image\n",
    "\n",
    "cropped_image = rotated_image.crop((45,50,140,140))\n",
    "cropped_image.show()"
   ]
  },
  {
   "cell_type": "markdown",
   "metadata": {},
   "source": [
    "#### Extract date and time from file name\n"
   ]
  },
  {
   "cell_type": "code",
   "execution_count": 5,
   "metadata": {},
   "outputs": [],
   "source": [
    "# Function for get data from file parth\n",
    "# Return camera index\n",
    "\n",
    "def get_data_from_file_name(full_file_name):\n",
    "\n",
    "    directory, filename = os.path.split(full_file_name)\n",
    "    filename, file_extension = os.path.splitext(filename)\n",
    "\n",
    "    #print(\"Directory:\", directory)     # Print the parts\n",
    "    #print(\"Filename:\", filename)\n",
    "    #print(\"File Extension:\", file_extension)\n",
    "\n",
    "        # Split file name to cam index and time stand data\n",
    "    start_positions = [0, 1, 5, 7,9, 11,13]  # Starting positions (inclusive)\n",
    "    end_positions   = [1, 5, 7, 9,11,13,15]  # Ending positions (exclusive)\n",
    "\n",
    "    custom_ranges = [filename[start:end] for start, end in zip(start_positions, end_positions)]\n",
    "    \n",
    "    file_cam_index = int(custom_ranges[0])\n",
    "    file_year   = int(custom_ranges[1])\n",
    "    file_month  = int(custom_ranges[2])\n",
    "    file_date   = int(custom_ranges[3])\n",
    "    file_hour   = int(custom_ranges[4])\n",
    "    file_min    = int(custom_ranges[3])\n",
    "    file_sec    = int(custom_ranges[4])\n",
    "\n",
    "    return file_cam_index,file_year,file_month,file_date,file_hour,file_min,file_sec \n"
   ]
  },
  {
   "cell_type": "markdown",
   "metadata": {},
   "source": [
    "#### Seperating files based on index "
   ]
  },
  {
   "cell_type": "code",
   "execution_count": 6,
   "metadata": {},
   "outputs": [
    {
     "name": "stdout",
     "output_type": "stream",
     "text": [
      "218\n"
     ]
    }
   ],
   "source": [
    "# No of files \n",
    "\n",
    "file_path = \"/home/adminuser/Documents/cam_test/test1/*\"\n",
    "i = 0\n",
    "for file in glob.glob(file_path):\n",
    "    i = i+1\n",
    "\n",
    "print(i)\n"
   ]
  },
  {
   "cell_type": "code",
   "execution_count": 42,
   "metadata": {},
   "outputs": [
    {
     "name": "stdout",
     "output_type": "stream",
     "text": [
      "created : sorted_file_path_temperature \n",
      "created : sorted_file_path_temperature \n"
     ]
    }
   ],
   "source": [
    "# Segrigate files based on camera index\n",
    "file_path_temperature = []  # 2\n",
    "file_path_motion = []       # 4\n",
    "\n",
    "# create 2 file sets for soted values\n",
    "file_path = \"/home/adminuser/Documents/cam_test/test1/*\"\n",
    "i = 0\n",
    "j = 0\n",
    "for file in glob.glob(file_path):\n",
    "    image_file_name_data = get_data_from_file_name(file)\n",
    "    if image_file_name_data[0] == 2:\n",
    "        file_path_temperature.append(file)\n",
    "        i = i+1\n",
    "    else:\n",
    "        file_path_motion.append(file)\n",
    "        j = j+1\n",
    "\n",
    "# 1111111111111111111111111111111111111111111111111111111111111\n",
    "#  \n",
    "# create sorted file value based of hours,min,seconds\n",
    "before_sort = np.zeros((109))\n",
    "for i in range(0,109):\n",
    "    directory, filename = os.path.split(file_path_temperature[i])\n",
    "    filename, file_extension = os.path.splitext(filename)\n",
    "    start_positions = [0, 7]  # Starting positions (inclusive)\n",
    "    end_positions   = [7,15]  # Ending positions (exclusive)\n",
    "    splited = [filename[start:end] for start, end in zip(start_positions, end_positions)]\n",
    "    before_sort[i] = int(splited[1])\n",
    "\n",
    "sorted_array = sorted(before_sort) # created new sorted val\n",
    "\n",
    "\n",
    "# Create file parth list for tempature images\n",
    "i = 0\n",
    "j = 0\n",
    "sorted_file_path_temperature = []\n",
    "\n",
    "for i in range(0,109):\n",
    "    for j in range(0,109):\n",
    "        directory, filename = os.path.split(file_path_temperature[j])\n",
    "        filename, file_extension = os.path.splitext(filename)\n",
    "        start_positions = [0, 7]  # Starting positions (inclusive)\n",
    "        end_positions   = [7,15]  # Ending positions (exclusive)\n",
    "        splited = [filename[start:end] for start, end in zip(start_positions, end_positions)]\n",
    "        \n",
    "        if sorted_array[i] ==  int(splited[1]):\n",
    "            sorted_file_path_temperature.append(file_path_temperature[j])\n",
    "\n",
    "print(\"created : sorted_file_path_temperature \")\n",
    "\n",
    "#222222222222222222222222222222222222222222222222222222222222222222222\n",
    "#\n",
    "# # create sorted file value based of hours,min,seconds\n",
    "before_sort = np.zeros((109))\n",
    "for i in range(0,109):\n",
    "    directory, filename = os.path.split(file_path_motion[i])\n",
    "    filename, file_extension = os.path.splitext(filename)\n",
    "    start_positions = [0, 7]  # Starting positions (inclusive)\n",
    "    end_positions   = [7,15]  # Ending positions (exclusive)\n",
    "    splited = [filename[start:end] for start, end in zip(start_positions, end_positions)]\n",
    "    before_sort[i] = int(splited[1])\n",
    "\n",
    "sorted_array = sorted(before_sort) # created new sorted val\n",
    "\n",
    "\n",
    "# Create file parth list for tempature images\n",
    "i = 0\n",
    "j = 0\n",
    "sorted_file_path_motion = []\n",
    "\n",
    "for i in range(0,109):\n",
    "    for j in range(0,109):\n",
    "        directory, filename = os.path.split(file_path_motion[j])\n",
    "        filename, file_extension = os.path.splitext(filename)\n",
    "        start_positions = [0, 7]  # Starting positions (inclusive)\n",
    "        end_positions   = [7,15]  # Ending positions (exclusive)\n",
    "        splited = [filename[start:end] for start, end in zip(start_positions, end_positions)]\n",
    "        \n",
    "        if sorted_array[i] ==  int(splited[1]):\n",
    "            sorted_file_path_motion.append(file_path_temperature[j])\n",
    "\n",
    "print(\"created : sorted_file_path_temperature \")\n"
   ]
  },
  {
   "cell_type": "code",
   "execution_count": null,
   "metadata": {},
   "outputs": [],
   "source": []
  },
  {
   "cell_type": "code",
   "execution_count": null,
   "metadata": {},
   "outputs": [],
   "source": []
  }
 ],
 "metadata": {
  "kernelspec": {
   "display_name": "Python 3 (ipykernel)",
   "language": "python",
   "name": "python3"
  },
  "language_info": {
   "codemirror_mode": {
    "name": "ipython",
    "version": 3
   },
   "file_extension": ".py",
   "mimetype": "text/x-python",
   "name": "python",
   "nbconvert_exporter": "python",
   "pygments_lexer": "ipython3",
   "version": "3.11.6"
  }
 },
 "nbformat": 4,
 "nbformat_minor": 5
}
