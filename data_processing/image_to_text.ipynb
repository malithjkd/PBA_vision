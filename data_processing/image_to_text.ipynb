{
 "cells": [
  {
   "cell_type": "markdown",
   "metadata": {},
   "source": [
    "### Importing headers"
   ]
  },
  {
   "cell_type": "code",
   "execution_count": 1,
   "id": "5c84b44e-1ce9-4629-bf41-6f1bed121a4f",
   "metadata": {},
   "outputs": [],
   "source": [
    "from PIL import Image\n",
    "import glob\n",
    "import os\n",
    "import numpy as np\n",
    "import cv2\n",
    "import pytesseract"
   ]
  },
  {
   "cell_type": "markdown",
   "metadata": {},
   "source": [
    "#### Crope image using Pillow (to see the tempature varuation) "
   ]
  },
  {
   "cell_type": "code",
   "execution_count": 2,
   "metadata": {},
   "outputs": [],
   "source": [
    "# load and view the image \n",
    "\n",
    "def crope_temp_image(file_path):\n",
    "    image = Image.open(file_path)\n",
    "    #image.show()\n",
    "    image_width, image_height = image.size\n",
    "    #print(image_width, image_height)\n",
    "\n",
    "    # rotate the image\n",
    "    rotated_image = image.rotate(-52, expand=0)\n",
    "    #rotated_image.show()\n",
    "    #rotated_image.save(\"rotated.jpg\")\n",
    "\n",
    "    # crope image\n",
    "    cropped_image = rotated_image.crop((60,60,140,115)) # x1,y1, x2, y2\n",
    "    #cropped_image.show()\n",
    "    \n",
    "    return cropped_image\n"
   ]
  },
  {
   "cell_type": "markdown",
   "metadata": {},
   "source": [
    "#### Extract date and time from file name\n"
   ]
  },
  {
   "cell_type": "code",
   "execution_count": 3,
   "metadata": {},
   "outputs": [],
   "source": [
    "# Function for get data from file parth\n",
    "# Return camera index\n",
    "\n",
    "def get_data_from_file_name(full_file_name):\n",
    "\n",
    "    directory, filename = os.path.split(full_file_name)\n",
    "    filename, file_extension = os.path.splitext(filename)\n",
    "\n",
    "    #print(\"Directory:\", directory)     # Print the parts\n",
    "    #print(\"Filename:\", filename)\n",
    "    #print(\"File Extension:\", file_extension)\n",
    "\n",
    "        # Split file name to cam index and time stand data\n",
    "    start_positions = [0, 1, 5, 7,9, 11,13]  # Starting positions (inclusive)\n",
    "    end_positions   = [1, 5, 7, 9,11,13,15]  # Ending positions (exclusive)\n",
    "\n",
    "    custom_ranges = [filename[start:end] for start, end in zip(start_positions, end_positions)]\n",
    "    \n",
    "    file_cam_index = int(custom_ranges[0])\n",
    "    file_year   = int(custom_ranges[1])\n",
    "    file_month  = int(custom_ranges[2])\n",
    "    file_date   = int(custom_ranges[3])\n",
    "    file_hour   = int(custom_ranges[4])\n",
    "    file_min    = int(custom_ranges[3])\n",
    "    file_sec    = int(custom_ranges[4])\n",
    "\n",
    "    return file_cam_index,file_year,file_month,file_date,file_hour,file_min,file_sec \n"
   ]
  },
  {
   "cell_type": "markdown",
   "metadata": {},
   "source": [
    "#### Seperating files based on index "
   ]
  },
  {
   "cell_type": "code",
   "execution_count": 4,
   "metadata": {},
   "outputs": [
    {
     "name": "stdout",
     "output_type": "stream",
     "text": [
      "218\n"
     ]
    }
   ],
   "source": [
    "# No of files \n",
    "\n",
    "file_path = \"/home/adminuser/Documents/cam_test/test1/*\"\n",
    "i = 0\n",
    "for file in glob.glob(file_path):\n",
    "    i = i+1\n",
    "\n",
    "print(i)\n"
   ]
  },
  {
   "cell_type": "code",
   "execution_count": 5,
   "metadata": {},
   "outputs": [
    {
     "name": "stdout",
     "output_type": "stream",
     "text": [
      "created : sorted_file_path_temperature \n",
      "created : sorted_file_path_motion \n"
     ]
    }
   ],
   "source": [
    "# Segrigate files based on camera index\n",
    "file_path_temperature = []  # 2\n",
    "file_path_motion = []       # 4\n",
    "\n",
    "# create 2 file sets for soted values\n",
    "file_path = \"/home/adminuser/Documents/cam_test/test1/*\"\n",
    "i = 0\n",
    "j = 0\n",
    "for file in glob.glob(file_path):\n",
    "    image_file_name_data = get_data_from_file_name(file)\n",
    "    if image_file_name_data[0] == 2:\n",
    "        file_path_temperature.append(file)\n",
    "        i = i+1\n",
    "    else:\n",
    "        file_path_motion.append(file)\n",
    "        j = j+1\n",
    "\n",
    "# 1111111111111111111111111111111111111111111111111111111111111\n",
    "#  \n",
    "# create sorted file value based of hours,min,seconds\n",
    "before_sort = np.zeros((109))\n",
    "for i in range(0,109):\n",
    "    directory, filename = os.path.split(file_path_temperature[i])\n",
    "    filename, file_extension = os.path.splitext(filename)\n",
    "    start_positions = [0, 7]  # Starting positions (inclusive)\n",
    "    end_positions   = [7,15]  # Ending positions (exclusive)\n",
    "    splited = [filename[start:end] for start, end in zip(start_positions, end_positions)]\n",
    "    before_sort[i] = int(splited[1])\n",
    "\n",
    "sorted_array = sorted(before_sort) # created new sorted val\n",
    "\n",
    "\n",
    "# Create file parth list for tempature images\n",
    "i = 0\n",
    "j = 0\n",
    "sorted_file_path_temperature = []\n",
    "\n",
    "for i in range(0,109):\n",
    "    for j in range(0,109):\n",
    "        directory, filename = os.path.split(file_path_temperature[j])\n",
    "        filename, file_extension = os.path.splitext(filename)\n",
    "        start_positions = [0, 7]  # Starting positions (inclusive)\n",
    "        end_positions   = [7,15]  # Ending positions (exclusive)\n",
    "        splited = [filename[start:end] for start, end in zip(start_positions, end_positions)]\n",
    "        \n",
    "        if sorted_array[i] ==  int(splited[1]):\n",
    "            sorted_file_path_temperature.append(file_path_temperature[j])\n",
    "\n",
    "print(\"created : sorted_file_path_temperature \")\n",
    "\n",
    "#222222222222222222222222222222222222222222222222222222222222222222222\n",
    "#\n",
    "# # create sorted file value based of hours,min,seconds\n",
    "before_sort = np.zeros((109))\n",
    "for i in range(0,109):\n",
    "    directory, filename = os.path.split(file_path_motion[i])\n",
    "    filename, file_extension = os.path.splitext(filename)\n",
    "    start_positions = [0, 7]  # Starting positions (inclusive)\n",
    "    end_positions   = [7,15]  # Ending positions (exclusive)\n",
    "    splited = [filename[start:end] for start, end in zip(start_positions, end_positions)]\n",
    "    before_sort[i] = int(splited[1])\n",
    "\n",
    "sorted_array = sorted(before_sort) # created new sorted val\n",
    "\n",
    "\n",
    "# Create file parth list for tempature images\n",
    "i = 0\n",
    "j = 0\n",
    "sorted_file_path_motion = []\n",
    "\n",
    "for i in range(0,109):\n",
    "    for j in range(0,109):\n",
    "        directory, filename = os.path.split(file_path_motion[j])\n",
    "        filename, file_extension = os.path.splitext(filename)\n",
    "        start_positions = [0, 7]  # Starting positions (inclusive)\n",
    "        end_positions   = [7,15]  # Ending positions (exclusive)\n",
    "        splited = [filename[start:end] for start, end in zip(start_positions, end_positions)]\n",
    "        \n",
    "        if sorted_array[i] == int(splited[1]):\n",
    "            sorted_file_path_motion.append(file_path_motion[j])\n",
    "\n",
    "print(\"created : sorted_file_path_motion \")\n"
   ]
  },
  {
   "cell_type": "markdown",
   "metadata": {},
   "source": [
    "### Image processing and image to text "
   ]
  },
  {
   "cell_type": "code",
   "execution_count": 6,
   "metadata": {},
   "outputs": [
    {
     "name": "stdout",
     "output_type": "stream",
     "text": [
      "sorted_file_path_temperature[i]\n",
      "sorted_file_path_motion[i]\n"
     ]
    }
   ],
   "source": [
    "print(\"sorted_file_path_temperature[i]\")\n",
    "print(\"sorted_file_path_motion[i]\")"
   ]
  },
  {
   "cell_type": "code",
   "execution_count": 34,
   "metadata": {},
   "outputs": [
    {
     "data": {
      "text/plain": [
       "True"
      ]
     },
     "execution_count": 34,
     "metadata": {},
     "output_type": "execute_result"
    }
   ],
   "source": [
    "\n",
    "\n",
    "# Load the image\n",
    "image = cv2.imread(sorted_file_path_temperature[1])\n",
    "\n",
    "# Rotate image--------\n",
    "angle = -52  # Replace with the desired rotation angle\n",
    "# Get the height and width of the image\n",
    "height, width = image.shape[:2]\n",
    "# Calculate the rotation matrix\n",
    "rotation_matrix = cv2.getRotationMatrix2D((width / 2, height / 2), angle, 1)\n",
    "# Apply the rotation to the image\n",
    "rotated_image = cv2.warpAffine(image, rotation_matrix, (width, height))\n",
    "\n",
    "# crope image--------\n",
    "# Define the coordinates of the region to crop\n",
    "x1, y1, x2, y2 = 60,75,138,108  # Example coordinates\n",
    "\n",
    "# Crop the region from the image\n",
    "cropped_image = rotated_image[y1:y2, x1:x2]\n",
    "\n",
    "\n",
    "# Display the cropped region\n",
    "#cv2.imshow(\"Cropped Region\", cropped_image)\n",
    "#cv2.waitKey(0)\n",
    "#cv2.destroyAllWindows()\n",
    "\n",
    "\n",
    "cv2.imwrite(\"cropped_image.jpg\", cropped_image)\n",
    "\n"
   ]
  },
  {
   "cell_type": "code",
   "execution_count": 58,
   "metadata": {},
   "outputs": [
    {
     "name": "stdout",
     "output_type": "stream",
     "text": [
      "Installers\n",
      "\f\n"
     ]
    }
   ],
   "source": [
    "import cv2\n",
    "\n",
    "image = cv2.imread(\"1.png\",0)  # Load as grayscale\n",
    "\n",
    "#image = cv2.imread(\"cropped_image.jpg\", 0)  # Load as grayscale\n",
    "\n",
    "# Apply adaptive thresholding\n",
    "th, enhanced_image = cv2.threshold(image, 0, 255, cv2.THRESH_BINARY + cv2.THRESH_OTSU)\n",
    "\n",
    "\n",
    "enhanced_image_2 = cv2.equalizeHist(enhanced_image)\n",
    "# Apply Gaussian blur to remove noise\n",
    "#enhanced_image_2 = cv2.GaussianBlur(enhanced_image, (5, 5), 0)\n",
    "#custom_config = r'--oem 0 --psm 6 -c tessedit_char_whitelist=0123456789'\n",
    "\n",
    "# Perform OCR with the specified configuration\n",
    "text = pytesseract.image_to_string(enhanced_image_2)\n",
    "\n",
    "\n",
    "\n",
    "# Print the extracted text\n",
    "print(text)\n",
    "\n",
    "\n",
    "#cv2.imshow(\"Enhanced Image\", enhanced_image)\n",
    "#cv2.waitKey(0)\n",
    "#cv2.destroyAllWindows()"
   ]
  },
  {
   "cell_type": "code",
   "execution_count": 52,
   "metadata": {},
   "outputs": [
    {
     "name": "stdout",
     "output_type": "stream",
     "text": [
      "1.png  2.png  cropped_image.jpg  image_to_text.ipynb  rotated.jpg\n"
     ]
    }
   ],
   "source": [
    "ls"
   ]
  },
  {
   "cell_type": "code",
   "execution_count": 121,
   "metadata": {},
   "outputs": [
    {
     "name": "stdout",
     "output_type": "stream",
     "text": [
      " \n",
      "\f\n"
     ]
    }
   ],
   "source": [
    "from PIL import Image\n",
    "import pytesseract\n",
    "\n",
    "# Open the image using Pillow\n",
    "image = Image.open(\"rotated.jpg\")\n",
    "\n",
    "# Perform OCR to extract text from the image\n",
    "text = pytesseract.image_to_string(image)\n",
    "\n",
    "# Print the extracted text\n",
    "print(text)"
   ]
  },
  {
   "cell_type": "code",
   "execution_count": 119,
   "metadata": {},
   "outputs": [
    {
     "name": "stdout",
     "output_type": "stream",
     "text": [
      "image_to_text.ipynb  rotated.jpg\n"
     ]
    }
   ],
   "source": [
    "ls"
   ]
  },
  {
   "cell_type": "code",
   "execution_count": null,
   "metadata": {},
   "outputs": [],
   "source": []
  }
 ],
 "metadata": {
  "kernelspec": {
   "display_name": "Python 3 (ipykernel)",
   "language": "python",
   "name": "python3"
  },
  "language_info": {
   "codemirror_mode": {
    "name": "ipython",
    "version": 3
   },
   "file_extension": ".py",
   "mimetype": "text/x-python",
   "name": "python",
   "nbconvert_exporter": "python",
   "pygments_lexer": "ipython3",
   "version": "3.11.6"
  }
 },
 "nbformat": 4,
 "nbformat_minor": 5
}
