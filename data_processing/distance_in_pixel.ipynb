{
 "cells": [
  {
   "cell_type": "markdown",
   "metadata": {},
   "source": [
    "## Mesure distance using camera\n",
    "\n"
   ]
  },
  {
   "cell_type": "code",
   "execution_count": 1,
   "metadata": {},
   "outputs": [],
   "source": [
    "import os \n",
    "\n"
   ]
  },
  {
   "cell_type": "code",
   "execution_count": 2,
   "metadata": {},
   "outputs": [],
   "source": [
    "# create file parth list\n",
    "\n",
    "image_save_dir = \"/home/adminuser/Documents/cam_test/test7/\"\n",
    "\n",
    "\n",
    "file_path_temperature = []\n",
    "files = os.listdir(image_save_dir)\n",
    "file_paths = [os.path.join(image_save_dir, file) for file in files]\n",
    "\n",
    "file_path_temperature = []\n",
    "\n",
    "# Print the list of files\n",
    "for file in file_paths:\n",
    "    file_path_temperature.append(file)\n",
    "    #print(file)\n",
    "\n",
    "print(file_path_temperature)\n",
    "\n"
   ]
  },
  {
   "cell_type": "code",
   "execution_count": 8,
   "metadata": {},
   "outputs": [
    {
     "name": "stdout",
     "output_type": "stream",
     "text": [
      "['/home/adminuser/Documents/cam_test/test7/WIN_20231201_08_41_31_Pro.jpg', '/home/adminuser/Documents/cam_test/test7/WIN_20231201_08_41_45_Pro.jpg', '/home/adminuser/Documents/cam_test/test7/WIN_20231201_08_41_24_Pro.jpg', '/home/adminuser/Documents/cam_test/test7/WIN_20231201_08_41_20_Pro.jpg', '/home/adminuser/Documents/cam_test/test7/WIN_20231201_08_41_47_Pro.jpg', '/home/adminuser/Documents/cam_test/test7/WIN_20231201_08_41_50_Pro.jpg', '/home/adminuser/Documents/cam_test/test7/WIN_20231201_08_41_30_Pro.jpg', '/home/adminuser/Documents/cam_test/test7/WIN_20231201_08_41_34_Pro.jpg', '/home/adminuser/Documents/cam_test/test7/WIN_20231201_08_41_23_Pro.jpg']\n"
     ]
    }
   ],
   "source": []
  },
  {
   "cell_type": "code",
   "execution_count": 9,
   "metadata": {},
   "outputs": [
    {
     "data": {
      "text/plain": [
       "'/home/adminuser/Documents/cam_test/test7/WIN_20231201_08_41_31_Pro.jpg'"
      ]
     },
     "execution_count": 9,
     "metadata": {},
     "output_type": "execute_result"
    }
   ],
   "source": [
    "file_path_temperature[0]\n"
   ]
  },
  {
   "cell_type": "code",
   "execution_count": null,
   "metadata": {},
   "outputs": [],
   "source": []
  }
 ],
 "metadata": {
  "kernelspec": {
   "display_name": "py38",
   "language": "python",
   "name": "python3"
  },
  "language_info": {
   "codemirror_mode": {
    "name": "ipython",
    "version": 3
   },
   "file_extension": ".py",
   "mimetype": "text/x-python",
   "name": "python",
   "nbconvert_exporter": "python",
   "pygments_lexer": "ipython3",
   "version": "3.8.0"
  }
 },
 "nbformat": 4,
 "nbformat_minor": 2
}
