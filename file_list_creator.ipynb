{
 "cells": [
  {
   "cell_type": "markdown",
   "metadata": {},
   "source": [
    "# Creating list of images in text format\n"
   ]
  },
  {
   "cell_type": "code",
   "execution_count": 22,
   "metadata": {},
   "outputs": [],
   "source": [
    "# Header files\n",
    "\n",
    "import glob\n",
    "import os\n",
    "import numpy as np\n",
    "import csv"
   ]
  },
  {
   "cell_type": "markdown",
   "metadata": {},
   "source": [
    "### Define functions"
   ]
  },
  {
   "cell_type": "code",
   "execution_count": 37,
   "metadata": {},
   "outputs": [],
   "source": [
    "# Function for get data from file parth\n",
    "# Return camera index\n",
    "\n",
    "def get_data_from_file_name(full_file_name):\n",
    "\n",
    "    directory, filename = os.path.split(full_file_name)\n",
    "    filename, file_extension = os.path.splitext(filename)\n",
    "\n",
    "    #print(\"Directory:\", directory)     # Print the parts\n",
    "    #print(\"Filename:\", filename)\n",
    "    #print(\"File Extension:\", file_extension)\n",
    "\n",
    "        # Split file name to cam index and time stand data\n",
    "    start_positions = [0, 1, 5, 7,9, 11,13]  # Starting positions (inclusive)\n",
    "    end_positions   = [1, 5, 7, 9,11,13,15]  # Ending positions (exclusive)\n",
    "\n",
    "    custom_ranges = [filename[start:end] for start, end in zip(start_positions, end_positions)]\n",
    "    \n",
    "    file_cam_index = int(custom_ranges[0])\n",
    "    file_year   = int(custom_ranges[1])\n",
    "    file_month  = int(custom_ranges[2])\n",
    "    file_date   = int(custom_ranges[3])\n",
    "    file_hour   = int(custom_ranges[4])\n",
    "    file_min    = int(custom_ranges[3])\n",
    "    file_sec    = int(custom_ranges[4])\n",
    "\n",
    "    return file_cam_index,file_year,file_month,file_date,file_hour,file_min,file_sec \n",
    "\n",
    "\n",
    "# Segrigate files based on camera index\n",
    "# No of files \n",
    "\n",
    "def create_list_using_path_and_index(file_path,cam_index_1,cam_index_2):\n",
    "    file_path_index_1 = []  # 2\n",
    "    file_path_index_2 = []  # 4\n",
    "\n",
    "    # create 2 file sets for soted values\n",
    "    i = 0\n",
    "    j = 0\n",
    "    for file in glob.glob(file_path):\n",
    "        image_file_name_data = get_data_from_file_name(file)    # function call\n",
    "        if image_file_name_data[0] == cam_index_1:\n",
    "            file_path_index_1.append(file)\n",
    "            i = i+1\n",
    "        elif image_file_name_data[0] == cam_index_2:\n",
    "            file_path_index_2.append(file)\n",
    "            j = j+1\n",
    "\n",
    "    print (i,j)\n",
    "    return i,j,file_path_index_1,file_path_index_2\n",
    "\n",
    "\n",
    "# Function to create sorted list\n",
    "def created_sorted_list(count,file_list_1):\n",
    "    # create sorted file value based of hours,min,seconds\n",
    "    before_sort = np.zeros((count))\n",
    "    for i in range(0,count):\n",
    "        directory, filename = os.path.split(file_list_1[i])\n",
    "        filename, file_extension = os.path.splitext(filename)\n",
    "        start_positions = [0, 7]  # Starting positions (inclusive)\n",
    "        end_positions   = [7,15]  # Ending positions (exclusive)\n",
    "        splited = [filename[start:end] for start, end in zip(start_positions, end_positions)]\n",
    "        before_sort[i] = int(splited[1])\n",
    "\n",
    "    sorted_array = sorted(before_sort) # created new sorted val\n",
    "\n",
    "\n",
    "    # Create file parth list for tempature images\n",
    "    i = 0\n",
    "    j = 0\n",
    "    sorted_file_path_temperature = []\n",
    "\n",
    "    for i in range(0,count):\n",
    "        for j in range(0,count):\n",
    "            directory, filename = os.path.split(file_list_1[j])\n",
    "            filename, file_extension = os.path.splitext(filename)\n",
    "            start_positions = [0, 7]  # Starting positions (inclusive)\n",
    "            end_positions   = [7,15]  # Ending positions (exclusive)\n",
    "            splited = [filename[start:end] for start, end in zip(start_positions, end_positions)]\n",
    "\n",
    "            if sorted_array[i] ==  int(splited[1]):\n",
    "                sorted_file_path_temperature.append(file_list_1[j])\n",
    "\n",
    "    print(\"created : sorted file list using for file list\" )\n",
    "\n",
    "    return sorted_file_path_temperature\n",
    "\n",
    "\n",
    "#  save sorted file list to csv\n",
    "\n",
    "def save_list_to_csv(file_dir,sorted_file_path):\n",
    "    with open(file_dir,mode='w+',newline='') as file:\n",
    "        writer = csv.writer(file)\n",
    "        for item in sorted_file_path:\n",
    "            writer.writerow([item])\n",
    "\n",
    "    print(f\"Data has been saved to {sorted_file_path}\")\n",
    "    return 0\n",
    "\n"
   ]
  },
  {
   "cell_type": "markdown",
   "metadata": {},
   "source": [
    "### Main function"
   ]
  },
  {
   "cell_type": "code",
   "execution_count": 39,
   "metadata": {},
   "outputs": [
    {
     "name": "stdout",
     "output_type": "stream",
     "text": [
      "65 64\n",
      "created : sorted file list using for file list\n",
      "created : sorted file list using for file list\n",
      "Data has been saved to ['/home/adminuser/Documents/cam_test/test3/220231107110305.png', '/home/adminuser/Documents/cam_test/test3/220231107110504.png', '/home/adminuser/Documents/cam_test/test3/220231107110702.png', '/home/adminuser/Documents/cam_test/test3/220231107110900.png', '/home/adminuser/Documents/cam_test/test3/220231107111058.png', '/home/adminuser/Documents/cam_test/test3/220231107111256.png', '/home/adminuser/Documents/cam_test/test3/220231107111454.png', '/home/adminuser/Documents/cam_test/test3/220231107111652.png', '/home/adminuser/Documents/cam_test/test3/220231107111850.png', '/home/adminuser/Documents/cam_test/test3/220231107112048.png', '/home/adminuser/Documents/cam_test/test3/220231107112247.png', '/home/adminuser/Documents/cam_test/test3/220231107112445.png', '/home/adminuser/Documents/cam_test/test3/220231107112643.png', '/home/adminuser/Documents/cam_test/test3/220231107112841.png', '/home/adminuser/Documents/cam_test/test3/220231107113039.png', '/home/adminuser/Documents/cam_test/test3/220231107113237.png', '/home/adminuser/Documents/cam_test/test3/220231107113435.png', '/home/adminuser/Documents/cam_test/test3/220231107113633.png', '/home/adminuser/Documents/cam_test/test3/220231107113832.png', '/home/adminuser/Documents/cam_test/test3/220231107114030.png', '/home/adminuser/Documents/cam_test/test3/220231107114228.png', '/home/adminuser/Documents/cam_test/test3/220231107114426.png', '/home/adminuser/Documents/cam_test/test3/220231107114624.png', '/home/adminuser/Documents/cam_test/test3/220231107114822.png', '/home/adminuser/Documents/cam_test/test3/220231107115020.png', '/home/adminuser/Documents/cam_test/test3/220231107115218.png', '/home/adminuser/Documents/cam_test/test3/220231107115416.png', '/home/adminuser/Documents/cam_test/test3/220231107115614.png', '/home/adminuser/Documents/cam_test/test3/220231107115813.png', '/home/adminuser/Documents/cam_test/test3/220231107120011.png', '/home/adminuser/Documents/cam_test/test3/220231107120209.png', '/home/adminuser/Documents/cam_test/test3/220231107120407.png', '/home/adminuser/Documents/cam_test/test3/220231107120605.png', '/home/adminuser/Documents/cam_test/test3/220231107120803.png', '/home/adminuser/Documents/cam_test/test3/220231107121001.png', '/home/adminuser/Documents/cam_test/test3/220231107121159.png', '/home/adminuser/Documents/cam_test/test3/220231107121357.png', '/home/adminuser/Documents/cam_test/test3/220231107121556.png', '/home/adminuser/Documents/cam_test/test3/220231107121754.png', '/home/adminuser/Documents/cam_test/test3/220231107121952.png', '/home/adminuser/Documents/cam_test/test3/220231107122150.png', '/home/adminuser/Documents/cam_test/test3/220231107122348.png', '/home/adminuser/Documents/cam_test/test3/220231107122546.png', '/home/adminuser/Documents/cam_test/test3/220231107122744.png', '/home/adminuser/Documents/cam_test/test3/220231107122942.png', '/home/adminuser/Documents/cam_test/test3/220231107123140.png', '/home/adminuser/Documents/cam_test/test3/220231107123339.png', '/home/adminuser/Documents/cam_test/test3/220231107123537.png', '/home/adminuser/Documents/cam_test/test3/220231107123735.png', '/home/adminuser/Documents/cam_test/test3/220231107123933.png', '/home/adminuser/Documents/cam_test/test3/220231107124131.png', '/home/adminuser/Documents/cam_test/test3/220231107124329.png', '/home/adminuser/Documents/cam_test/test3/220231107124527.png', '/home/adminuser/Documents/cam_test/test3/220231107124725.png', '/home/adminuser/Documents/cam_test/test3/220231107124923.png', '/home/adminuser/Documents/cam_test/test3/220231107125121.png', '/home/adminuser/Documents/cam_test/test3/220231107125320.png', '/home/adminuser/Documents/cam_test/test3/220231107125518.png', '/home/adminuser/Documents/cam_test/test3/220231107125716.png', '/home/adminuser/Documents/cam_test/test3/220231107125914.png', '/home/adminuser/Documents/cam_test/test3/220231107130112.png', '/home/adminuser/Documents/cam_test/test3/220231107130310.png', '/home/adminuser/Documents/cam_test/test3/220231107130508.png', '/home/adminuser/Documents/cam_test/test3/220231107130706.png', '/home/adminuser/Documents/cam_test/test3/220231107130904.png']\n",
      "Data has been saved to ['/home/adminuser/Documents/cam_test/test3/420231107110310.png', '/home/adminuser/Documents/cam_test/test3/420231107110508.png', '/home/adminuser/Documents/cam_test/test3/420231107110707.png', '/home/adminuser/Documents/cam_test/test3/420231107110905.png', '/home/adminuser/Documents/cam_test/test3/420231107111103.png', '/home/adminuser/Documents/cam_test/test3/420231107111301.png', '/home/adminuser/Documents/cam_test/test3/420231107111459.png', '/home/adminuser/Documents/cam_test/test3/420231107111657.png', '/home/adminuser/Documents/cam_test/test3/420231107111855.png', '/home/adminuser/Documents/cam_test/test3/420231107112053.png', '/home/adminuser/Documents/cam_test/test3/420231107112251.png', '/home/adminuser/Documents/cam_test/test3/420231107112450.png', '/home/adminuser/Documents/cam_test/test3/420231107112648.png', '/home/adminuser/Documents/cam_test/test3/420231107112846.png', '/home/adminuser/Documents/cam_test/test3/420231107113044.png', '/home/adminuser/Documents/cam_test/test3/420231107113242.png', '/home/adminuser/Documents/cam_test/test3/420231107113440.png', '/home/adminuser/Documents/cam_test/test3/420231107113638.png', '/home/adminuser/Documents/cam_test/test3/420231107113836.png', '/home/adminuser/Documents/cam_test/test3/420231107114034.png', '/home/adminuser/Documents/cam_test/test3/420231107114233.png', '/home/adminuser/Documents/cam_test/test3/420231107114431.png', '/home/adminuser/Documents/cam_test/test3/420231107114629.png', '/home/adminuser/Documents/cam_test/test3/420231107114827.png', '/home/adminuser/Documents/cam_test/test3/420231107115025.png', '/home/adminuser/Documents/cam_test/test3/420231107115223.png', '/home/adminuser/Documents/cam_test/test3/420231107115421.png', '/home/adminuser/Documents/cam_test/test3/420231107115619.png', '/home/adminuser/Documents/cam_test/test3/420231107115817.png', '/home/adminuser/Documents/cam_test/test3/420231107120016.png', '/home/adminuser/Documents/cam_test/test3/420231107120214.png', '/home/adminuser/Documents/cam_test/test3/420231107120412.png', '/home/adminuser/Documents/cam_test/test3/420231107120610.png', '/home/adminuser/Documents/cam_test/test3/420231107120808.png', '/home/adminuser/Documents/cam_test/test3/420231107121006.png', '/home/adminuser/Documents/cam_test/test3/420231107121204.png', '/home/adminuser/Documents/cam_test/test3/420231107121402.png', '/home/adminuser/Documents/cam_test/test3/420231107121600.png', '/home/adminuser/Documents/cam_test/test3/420231107121759.png', '/home/adminuser/Documents/cam_test/test3/420231107121957.png', '/home/adminuser/Documents/cam_test/test3/420231107122155.png', '/home/adminuser/Documents/cam_test/test3/420231107122353.png', '/home/adminuser/Documents/cam_test/test3/420231107122551.png', '/home/adminuser/Documents/cam_test/test3/420231107122749.png', '/home/adminuser/Documents/cam_test/test3/420231107122947.png', '/home/adminuser/Documents/cam_test/test3/420231107123145.png', '/home/adminuser/Documents/cam_test/test3/420231107123343.png', '/home/adminuser/Documents/cam_test/test3/420231107123541.png', '/home/adminuser/Documents/cam_test/test3/420231107123740.png', '/home/adminuser/Documents/cam_test/test3/420231107123938.png', '/home/adminuser/Documents/cam_test/test3/420231107124136.png', '/home/adminuser/Documents/cam_test/test3/420231107124334.png', '/home/adminuser/Documents/cam_test/test3/420231107124532.png', '/home/adminuser/Documents/cam_test/test3/420231107124730.png', '/home/adminuser/Documents/cam_test/test3/420231107124928.png', '/home/adminuser/Documents/cam_test/test3/420231107125126.png', '/home/adminuser/Documents/cam_test/test3/420231107125324.png', '/home/adminuser/Documents/cam_test/test3/420231107125523.png', '/home/adminuser/Documents/cam_test/test3/420231107125721.png', '/home/adminuser/Documents/cam_test/test3/420231107125919.png', '/home/adminuser/Documents/cam_test/test3/420231107130117.png', '/home/adminuser/Documents/cam_test/test3/420231107130315.png', '/home/adminuser/Documents/cam_test/test3/420231107130513.png', '/home/adminuser/Documents/cam_test/test3/420231107130711.png']\n"
     ]
    },
    {
     "data": {
      "text/plain": [
       "0"
      ]
     },
     "execution_count": 39,
     "metadata": {},
     "output_type": "execute_result"
    }
   ],
   "source": [
    "# file localtion and cam index\n",
    "path = \"/home/adminuser/Documents/cam_test/test3/*\"\n",
    "cam_index_1 = 2\n",
    "cam_index_2 = 4\n",
    "\n",
    "i,j,file_list_1,file_list_2 = create_list_using_path_and_index(path,cam_index_1,cam_index_2)\n",
    "\n",
    "\n",
    "# sorted file list location\n",
    "\n",
    "save_csv_to_dir_index_1 = \"/home/adminuser/Documents/stability/data_processing/test3_2.csv\"\n",
    "save_csv_to_dir_index_2 = \"/home/adminuser/Documents/stability/data_processing/test3_4.csv\"\n",
    "\n",
    "sorted_file_list_1 = created_sorted_list(i,file_list_1)\n",
    "sorted_file_list_2 = created_sorted_list(j,file_list_2)\n",
    "\n",
    "save_list_to_csv(save_csv_to_dir_index_1,sorted_file_list_1)\n",
    "save_list_to_csv(save_csv_to_dir_index_2,sorted_file_list_2)\n",
    "\n"
   ]
  },
  {
   "cell_type": "code",
   "execution_count": null,
   "metadata": {},
   "outputs": [],
   "source": []
  }
 ],
 "metadata": {
  "kernelspec": {
   "display_name": "py11",
   "language": "python",
   "name": "python3"
  },
  "language_info": {
   "codemirror_mode": {
    "name": "ipython",
    "version": 3
   },
   "file_extension": ".py",
   "mimetype": "text/x-python",
   "name": "python",
   "nbconvert_exporter": "python",
   "pygments_lexer": "ipython3",
   "version": "3.11.6"
  }
 },
 "nbformat": 4,
 "nbformat_minor": 2
}
