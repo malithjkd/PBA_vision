{
 "cells": [
  {
   "cell_type": "code",
   "execution_count": 1,
   "id": "5c84b44e-1ce9-4629-bf41-6f1bed121a4f",
   "metadata": {},
   "outputs": [],
   "source": [
    "import cv2\n",
    "import time\n",
    "import datetime"
   ]
  },
  {
   "cell_type": "code",
   "execution_count": 3,
   "id": "45ab5f52-380f-4ca1-a270-102dc9a76d0d",
   "metadata": {},
   "outputs": [],
   "source": [
    "# Specify the camera device index (change the number according to your device)\n",
    "cap = cv2.VideoCapture(2)  # Use 0, 1, 2, etc. based on the device index\n",
    "cap.set(3, 1280)  # Set width\n",
    "cap.set(4, 720)   # Set height\n",
    "\n",
    "\n",
    "# Check if the camera opened successfully\n",
    "if not cap.isOpened():\n",
    "    print(\"Error: Could not open the camera.\")\n",
    "    exit()\n",
    "\n",
    "while True:\n",
    "    # Read a frame from the camera\n",
    "    ret, frame = cap.read()\n",
    "\n",
    "    if not ret:\n",
    "        print(\"Error: Could not read a frame.\")\n",
    "        break\n",
    "\n",
    "    # Display the captured frame\n",
    "    cv2.imshow(\"Captured Image\", frame)\n",
    "\n",
    "    # Press 'q' to exit the loop\n",
    "    if cv2.waitKey(1) & 0xFF == ord('q'):\n",
    "        break\n",
    "\n",
    "# Release the camera and close the OpenCV window\n",
    "cap.release()\n",
    "cv2.destroyAllWindows()\n"
   ]
  },
  {
   "cell_type": "code",
   "execution_count": 12,
   "id": "e0fb8459-b2e8-4edf-aa0d-e6d57b0959b6",
   "metadata": {},
   "outputs": [],
   "source": [
    "\n",
    "i = 0\n",
    "j = 0\n",
    "while i < 2:\n",
    "         \n",
    "    cap = cv2.VideoCapture(2)\n",
    "    \n",
    "    # Check if the camera opened successfully\n",
    "    if not cap.isOpened():\n",
    "        print(\"Error: Could not open the camera.\")\n",
    "        exit()\n",
    "\n",
    "    while j < 30:\n",
    "        ret, frame = cap.read()\n",
    "        j=j+1\n",
    " \n",
    "\n",
    "    current_time = datetime.datetime.now()\n",
    "    timestamp_str = current_time.strftime(\"%Y%m%d%H%M%S\")\n",
    "    file_name = f\"{timestamp_str}.png\"\n",
    "    cv2.imwrite(file_name, frame)\n",
    "    #cv2.imwrite(\"fpos0101.png\", frame)\n",
    "    cap.release()\n",
    "    cv2.destroyAllWindows()\n",
    "    i = i+1\n",
    "    time.sleep(5)\n",
    "\n",
    "\n",
    "# Release the camera and close the OpenCV window\n",
    "\n"
   ]
  },
  {
   "cell_type": "code",
   "execution_count": null,
   "id": "f8795187-1c9a-46aa-bb96-9d743342b116",
   "metadata": {},
   "outputs": [],
   "source": []
  }
 ],
 "metadata": {
  "kernelspec": {
   "display_name": "Python 3 (ipykernel)",
   "language": "python",
   "name": "python3"
  },
  "language_info": {
   "codemirror_mode": {
    "name": "ipython",
    "version": 3
   },
   "file_extension": ".py",
   "mimetype": "text/x-python",
   "name": "python",
   "nbconvert_exporter": "python",
   "pygments_lexer": "ipython3",
   "version": "3.11.5"
  }
 },
 "nbformat": 4,
 "nbformat_minor": 5
}
