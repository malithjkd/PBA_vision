{
 "cells": [
  {
   "cell_type": "code",
   "execution_count": 2,
   "id": "5c84b44e-1ce9-4629-bf41-6f1bed121a4f",
   "metadata": {},
   "outputs": [],
   "source": [
    "import cv2\n",
    "import time\n",
    "import datetime\n",
    "import multiprocessing"
   ]
  },
  {
   "cell_type": "code",
   "execution_count": 3,
   "metadata": {},
   "outputs": [
    {
     "name": "stdout",
     "output_type": "stream",
     "text": [
      "Integrated_Webcam_HD: Integrate (usb-0000:00:14.0-12):\n",
      "\t/dev/video0\n",
      "\t/dev/video1\n",
      "\t/dev/media0\n",
      "\n"
     ]
    }
   ],
   "source": [
    "# List down all the cameras connected\n",
    "\n",
    "! v4l2-ctl --list-devices"
   ]
  },
  {
   "cell_type": "markdown",
   "metadata": {},
   "source": [
    "### Function decleration"
   ]
  },
  {
   "cell_type": "code",
   "execution_count": 4,
   "id": "45ab5f52-380f-4ca1-a270-102dc9a76d0d",
   "metadata": {},
   "outputs": [],
   "source": [
    "# Function for previe\n",
    "\n",
    "def camera_previe(cam_id):\n",
    "    # Specify the camera device index (change the number according to your device)\n",
    "    cap = cv2.VideoCapture(cam_id)  # Use 0, 1, 2, etc. based on the device index\n",
    "    cap.set(3, 1280)  # Set width\n",
    "    cap.set(4, 720)   # Set height\n",
    "\n",
    "\n",
    "    # Check if the camera opened successfully\n",
    "    if not cap.isOpened():\n",
    "        print(\"Error: Could not open the camera.\")\n",
    "        exit()\n",
    "\n",
    "    while True:\n",
    "        # Read a frame from the camera\n",
    "        ret, frame = cap.read()\n",
    "\n",
    "        if not ret:\n",
    "            print(\"Error: Could not read a frame.\")\n",
    "            break\n",
    "\n",
    "        # Display the captured frame\n",
    "        cv2.imshow(\"Captured Image\", frame)\n",
    "\n",
    "        # Press 'q' to exit the loop\n",
    "        if cv2.waitKey(1) & 0xFF == ord('q'):\n",
    "            break\n",
    "\n",
    "    # Release the camera and close the OpenCV window\n",
    "    cap.release()\n",
    "    cv2.destroyAllWindows()\n",
    "    return 0\n",
    "\n",
    "\n",
    "# Function for capture images\n",
    "\n",
    "def camera_capture(cam_id):\n",
    "    j = 0\n",
    "    cap = cv2.VideoCapture(cam_id)\n",
    "    \n",
    "    # Check if the camera opened successfully\n",
    "    if not cap.isOpened():\n",
    "        print(\"Error: Could not open the camera.\")\n",
    "        exit()\n",
    "\n",
    "    while j < 30:\n",
    "        ret, frame = cap.read()\n",
    "        j=j+1\n",
    " \n",
    "    current_time = datetime.datetime.now()\n",
    "    timestamp_str = current_time.strftime(\"%Y%m%d%H%M%S\")\n",
    "    file_name = f\"/home/adminuser/Documents/cam_test/test3/{cam_id}{timestamp_str}.png\"\n",
    "    cv2.imwrite(file_name, frame)\n",
    "    cap.release()\n",
    "    cv2.destroyAllWindows()\n",
    "\n",
    "    return 0\n"
   ]
  },
  {
   "cell_type": "markdown",
   "metadata": {},
   "source": [
    "### Preview"
   ]
  },
  {
   "cell_type": "code",
   "execution_count": 5,
   "id": "e0fb8459-b2e8-4edf-aa0d-e6d57b0959b6",
   "metadata": {},
   "outputs": [
    {
     "data": {
      "text/plain": [
       "0"
      ]
     },
     "execution_count": 5,
     "metadata": {},
     "output_type": "execute_result"
    }
   ],
   "source": [
    "# preview cameras\n",
    "\n",
    "camera_previe(0)\n",
    "camera_previe(0)\n",
    "\n"
   ]
  },
  {
   "cell_type": "markdown",
   "metadata": {},
   "source": [
    "### Capturing images"
   ]
  },
  {
   "cell_type": "code",
   "execution_count": 7,
   "id": "f8795187-1c9a-46aa-bb96-9d743342b116",
   "metadata": {},
   "outputs": [
    {
     "name": "stdout",
     "output_type": "stream",
     "text": [
      "0 2023-11-07 14:12:15.042930\n"
     ]
    }
   ],
   "source": [
    "# taking images from mutiple cameras using mult processing \n",
    "i = 0\n",
    "\n",
    "while i < 1:\n",
    "\n",
    "    if __name__ == \"__main__\":\n",
    "        # Create two processes and start them\n",
    "        process1 = multiprocessing.Process(target=camera_capture(0))\n",
    "        process2 = multiprocessing.Process(target=camera_capture(0))\n",
    "\n",
    "        process1.start()\n",
    "        process2.start()\n",
    "\n",
    "        # Wait for both processes to finish\n",
    "        process1.join()\n",
    "        process2.join()\n",
    "\n",
    "        print(i,datetime.datetime.now())\n",
    "        i = i+1\n",
    "        time.sleep(110)\n",
    "\n"
   ]
  }
 ],
 "metadata": {
  "kernelspec": {
   "display_name": "Python 3 (ipykernel)",
   "language": "python",
   "name": "python3"
  },
  "language_info": {
   "codemirror_mode": {
    "name": "ipython",
    "version": 3
   },
   "file_extension": ".py",
   "mimetype": "text/x-python",
   "name": "python",
   "nbconvert_exporter": "python",
   "pygments_lexer": "ipython3",
   "version": "3.11.5"
  }
 },
 "nbformat": 4,
 "nbformat_minor": 5
}
